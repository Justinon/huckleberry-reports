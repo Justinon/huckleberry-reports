{
 "cells": [
  {
   "cell_type": "markdown",
   "id": "c639f24e-8a08-413f-a293-e9107806b06a",
   "metadata": {},
   "source": [
    "# Huckleberry Notebook\n",
    "\n",
    "Reads, parses, and outputs sophisticated reports for the Huckleberry app."
   ]
  },
  {
   "cell_type": "markdown",
   "id": "3455c95f-c120-4414-99fe-72bd2eb219a2",
   "metadata": {},
   "source": [
    "## Prerequisite Installation\n",
    "\n",
    "Run the commands below to install the necesssary requirements."
   ]
  },
  {
   "cell_type": "code",
   "execution_count": null,
   "id": "825f0a5a-5d4c-4542-8bd6-e4e2e6f9a7db",
   "metadata": {},
   "outputs": [],
   "source": [
    "# Prerequisite install\n",
    "!pip install pandas"
   ]
  },
  {
   "cell_type": "code",
   "execution_count": null,
   "id": "b36e317b-452d-44bb-b560-825166325b02",
   "metadata": {},
   "outputs": [],
   "source": [
    "# Import data\n",
    "import pandas as pd\n",
    "\n",
    "data = pd.read_csv('data/huckleberry-data.csv')\n",
    "data.head() # to display the first 5 lines of loaded data"
   ]
  },
  {
   "cell_type": "code",
   "execution_count": null,
   "id": "8dbab597-7ae9-49dd-8472-d3d18d37718d",
   "metadata": {},
   "outputs": [],
   "source": [
    "# Import datastructure and graphing packages\n",
    "\n",
    "import matplotlib.pyplot as plt\n",
    "import matplotlib.ticker as ticker\n",
    "from datetime import datetime, timedelta"
   ]
  },
  {
   "cell_type": "markdown",
   "id": "0f2268a4-3e05-4ec7-bd60-824d70a7778b",
   "metadata": {},
   "source": [
    "## Set Desired Timespan for Data Here"
   ]
  },
  {
   "cell_type": "code",
   "execution_count": null,
   "id": "e6b56f29-d17a-4e23-b4ff-f12df5e1502c",
   "metadata": {},
   "outputs": [],
   "source": [
    "total_days_to_view = 10"
   ]
  },
  {
   "cell_type": "code",
   "execution_count": null,
   "id": "fefaa2fa-9698-41fe-a2ca-ee691bf9e4e6",
   "metadata": {},
   "outputs": [],
   "source": [
    "# Get today's date, and the date of the beginning of the desired range\n",
    "today = pd.Timestamp.today()\n",
    "prior_duration = today - pd.Timedelta(days=total_days_to_view-1)"
   ]
  },
  {
   "cell_type": "markdown",
   "id": "53846eb8-b8fa-4a98-b30b-4af63eea6320",
   "metadata": {},
   "source": [
    "# Breastfeed Stats"
   ]
  },
  {
   "cell_type": "markdown",
   "id": "d906260e-8dac-4a6a-ad2e-3aa406191df6",
   "metadata": {},
   "source": [
    "## Daily Total Duration"
   ]
  },
  {
   "cell_type": "code",
   "execution_count": null,
   "id": "a61e3ff6-5f3a-4f46-bb2e-7b3ad21d962e",
   "metadata": {
    "editable": true,
    "slideshow": {
     "slide_type": ""
    },
    "tags": []
   },
   "outputs": [],
   "source": [
    "# Get all Feed types\n",
    "\n",
    "# Avoid SettingWithCopyWarning err\n",
    "pd.options.mode.copy_on_write = True\n",
    "\n",
    "feedData = data[data['Type'] == 'Feed']\n",
    "\n",
    "# Ensure 'Start' is a datetime object\n",
    "feedData['Start'] = pd.to_datetime(feedData['Start'])\n",
    "\n",
    "# Ensure 'End' is a datetime object\n",
    "feedData['End'] = pd.to_datetime(feedData['End'])\n",
    "\n",
    "# Strip timestamp from Start to create Date\n",
    "feedData['Date'] = feedData['Start'].dt.date\n",
    "feedDataInRange = feedData[(feedData['Start'] >= prior_duration) & (feedData['Start'] <= today)]\n",
    "\n",
    "# Visualise the data\n",
    "feedDataInRange.head()"
   ]
  },
  {
   "cell_type": "code",
   "execution_count": null,
   "id": "f28bdf8e-caac-4bde-8323-b5fb6a08c1de",
   "metadata": {},
   "outputs": [],
   "source": [
    "# Parse data for Feed event durations over the past 7 days\n",
    "\n",
    "# Copy the feed object to maintain structure in original\n",
    "feedDataNew = feedDataInRange.copy()\n",
    "\n",
    "# Ensure 'Duration' is a timedelta64 object for mathematics\n",
    "feedDataNew['Duration'] = pd.to_timedelta(feedDataNew['Duration'] + ':00')\n",
    "\n",
    "# Group by date (day) and sum durations (is a Series w/ date as index)\n",
    "daily_totals = feedDataNew.groupby(feedDataNew['Date'])['Duration'].sum()\n",
    "\n",
    "# Convert Duration values in Series to seconds\n",
    "daily_totals_in_seconds = daily_totals.dt.total_seconds()\n",
    "\n",
    "daily_totals.head()"
   ]
  },
  {
   "cell_type": "code",
   "execution_count": null,
   "id": "e05699b6-c6ed-4330-bf1b-fbc82dedecdd",
   "metadata": {},
   "outputs": [],
   "source": [
    "# Define time conversion helper function for plot generation\n",
    "\n",
    "# Formatter for timedelta64[ns] values -> HH:MM\n",
    "def format_hhmm(x, pos):\n",
    "    hours = int(x // 3600)\n",
    "    minutes = int((x % 3600) // 60)\n",
    "    return f'{hours:02d}:{minutes:02d}'"
   ]
  },
  {
   "cell_type": "code",
   "execution_count": null,
   "id": "9cb2a56d-582f-4b04-90f2-d5fc32bd465b",
   "metadata": {},
   "outputs": [],
   "source": [
    "# Plot the histogram\n",
    "totalsPlot = daily_totals_in_seconds.plot(kind='bar', figsize=(10, 6), title='Total Feed Duration Over the Last %d Days' % total_days_to_view)\n",
    "totalsPlot.yaxis.set_major_formatter(ticker.FuncFormatter(format_hhmm))\n",
    "plt.xlabel('Date')\n",
    "plt.ylabel('Total Duration (Hours)')\n",
    "plt.tight_layout()\n",
    "plt.show()"
   ]
  },
  {
   "cell_type": "markdown",
   "id": "5ce3835e-27e0-479b-b6ce-a2487d389334",
   "metadata": {},
   "source": [
    "## Daily Duration for Each Breast"
   ]
  },
  {
   "cell_type": "code",
   "execution_count": null,
   "id": "388eb9a7-b842-419c-85fd-329ff2f98412",
   "metadata": {
    "editable": true,
    "slideshow": {
     "slide_type": ""
    },
    "tags": []
   },
   "outputs": [],
   "source": [
    "# Parse data for Feed event durations (for each breast) over the past 7 days\n",
    "\n",
    "# Eradicate Bottle feeding values\n",
    "feedDataBreastDuration = feedDataNew[feedDataNew['Start Location'] == 'Breast']\n",
    "\n",
    "# Obtain Left Breast Duration in timedelta64 format for mathematics\n",
    "feedDataBreastDuration['left_breast_duration'] = feedDataBreastDuration['End Condition'].str[:-1].fillna('00:00')\n",
    "feedDataBreastDuration['left_breast_duration'] = pd.to_timedelta(feedDataBreastDuration['left_breast_duration'] + ':00')\n",
    "feedDataBreastDuration['left_breast_duration_s'] = feedDataBreastDuration['left_breast_duration'].dt.total_seconds()\n",
    "\n",
    "# Obtain Right Breast Duration in timedelta64 format for mathematics\n",
    "feedDataBreastDuration['right_breast_duration'] = feedDataBreastDuration['Start Condition'].str[:-1].fillna('00:00')\n",
    "feedDataBreastDuration['right_breast_duration'] = pd.to_timedelta(feedDataBreastDuration['right_breast_duration'] + ':00')\n",
    "feedDataBreastDuration['right_breast_duration_s'] = feedDataBreastDuration['right_breast_duration'].dt.total_seconds()\n",
    "\n",
    "# Group by date (day) and sum durations (is a DataFrame w/ date as index)\n",
    "feedDataBreastDurationByDate = feedDataBreastDuration.groupby(feedDataBreastDuration['Date'])[['left_breast_duration_s', 'right_breast_duration_s']].sum()\n",
    "feedDataBreastDurationByDate.head()"
   ]
  },
  {
   "cell_type": "code",
   "execution_count": null,
   "id": "ab052eb2-568c-4cd6-bd3a-2bc998c62239",
   "metadata": {},
   "outputs": [],
   "source": [
    "# Plot the histogram\n",
    "breastDurationsSubplot = feedDataBreastDurationByDate.plot(kind='bar', figsize=(10, 6), title='Per Breast Duration Over Last %d Days' % total_days_to_view)\n",
    "breastDurationsSubplot.yaxis.set_major_formatter(ticker.FuncFormatter(format_hhmm))\n",
    "plt.xlabel('Date')\n",
    "plt.ylabel('Total Duration (Hours)')\n",
    "plt.tight_layout()\n",
    "plt.legend(['Left', 'Right'])\n",
    "plt.show()"
   ]
  },
  {
   "cell_type": "code",
   "execution_count": null,
   "id": "387dbeb8-ad00-44a5-9bdc-0186c06cf731",
   "metadata": {},
   "outputs": [],
   "source": [
    "# Plot the piechart\n",
    "pieData = feedDataBreastDurationByDate[['left_breast_duration_s', 'right_breast_duration_s']].sum()\n",
    "breastDurationsPiePlot = pieData.plot(kind='pie', y='Test', figsize=(10, 6), autopct='%.2f%%', title='Breast Share %% Over Last %d Days' % total_days_to_view)\n",
    "plt.tight_layout()\n",
    "plt.show()"
   ]
  },
  {
   "cell_type": "markdown",
   "id": "5735c287-9b47-4706-882a-5dc86a01a82f",
   "metadata": {},
   "source": [
    "# Diaper Stats"
   ]
  },
  {
   "cell_type": "code",
   "execution_count": null,
   "id": "a895abe9-3753-4234-bd3a-822e85b39bfb",
   "metadata": {
    "editable": true,
    "slideshow": {
     "slide_type": ""
    },
    "tags": []
   },
   "outputs": [],
   "source": [
    "# Curate diaper data\n",
    "\n",
    "diaperData = data[data['Type'] == 'Diaper']\n",
    "\n",
    "# Ensure 'Start' is a datetime object\n",
    "diaperData['Start'] = pd.to_datetime(diaperData['Start'])\n",
    "\n",
    "# Strip timestamp from Start to create Date\n",
    "diaperData['Date'] = diaperData['Start'].dt.date\n",
    "diaperDataInRange = diaperData[(diaperData['Start'] >= prior_duration) & (diaperData['Start'] <= today)]\n",
    "\n",
    "# Map Duration to Feces Color for clarity\n",
    "diaperDataInRange['Feces Color'] = diaperDataInRange['Duration']\n",
    "diaperDataInRange = diaperDataInRange.drop('Duration', axis=1)\n",
    "\n",
    "# Map Start Condition to Feces Consistency for clarity\n",
    "diaperDataInRange['Feces Consistency'] = diaperDataInRange['Start Condition']\n",
    "diaperDataInRange = diaperDataInRange.drop('Start Condition', axis=1)\n",
    "\n",
    "# Map End Condition to separate excrement columns for clarity\n",
    "diaperDataInRange['End Condition'] = diaperDataInRange['End Condition'].str.lower()\n",
    "diaperDataInRange['Urine Amount'] = diaperDataInRange['End Condition'].str.extract(r'pee:(\\w+)', expand=False).fillna('')\n",
    "diaperDataInRange['Feces Amount'] = diaperDataInRange['End Condition'].str.extract(r'poo:(\\w+)', expand=False).fillna('')\n",
    "diaperDataInRange['Did Urinate'] = diaperDataInRange['End Condition'].str.contains(r'both|pee').fillna('')\n",
    "diaperDataInRange['Did Defecate'] = diaperDataInRange['End Condition'].str.contains(r'both|poo').fillna('')\n",
    "diaperDataInRange = diaperDataInRange.drop('End Condition', axis=1)\n",
    "\n",
    "# Remove irrelevant columns\n",
    "diaperColumnsToDrop = ['End', 'Start Location']\n",
    "diaperDataInRange = diaperDataInRange.drop(diaperColumnsToDrop, axis=1)\n",
    "\n",
    "diaperDataInRange.head()"
   ]
  },
  {
   "cell_type": "code",
   "execution_count": null,
   "id": "94093e29-bb27-47e3-acf6-88a3a225810b",
   "metadata": {
    "editable": true,
    "slideshow": {
     "slide_type": ""
    },
    "tags": []
   },
   "outputs": [],
   "source": [
    "# Group by date (day) and sum durations (is a DataFrame w/ date as index)\n",
    "diaperDataInRange = diaperDataInRange.groupby(diaperDataInRange['Date'])[['Did Urinate', 'Did Defecate']].sum()\n",
    "diaperDataInRange"
   ]
  },
  {
   "cell_type": "code",
   "execution_count": null,
   "id": "f38fb37a-7857-4965-8992-7f364b708f5a",
   "metadata": {},
   "outputs": [],
   "source": [
    "# Plot the histogram\n",
    "bar_colors = ['yellow', 'brown']\n",
    "diaperTypeCountSubplot = diaperDataInRange.plot(kind='bar', figsize=(10, 6), title='Excrement Type Over %d Days' % total_days_to_view, color=bar_colors)\n",
    "plt.xlabel('Date')\n",
    "plt.ylabel('Excrement Count')\n",
    "\n",
    "diaperTypeCountSubplot.colors = bar_colors\n",
    "plt.tight_layout()\n",
    "plt.show()"
   ]
  },
  {
   "cell_type": "code",
   "execution_count": null,
   "id": "954617f8-9847-4300-a29e-063c784c181d",
   "metadata": {},
   "outputs": [],
   "source": []
  }
 ],
 "metadata": {
  "kernelspec": {
   "display_name": "Python 3 (ipykernel)",
   "language": "python",
   "name": "python3"
  },
  "language_info": {
   "codemirror_mode": {
    "name": "ipython",
    "version": 3
   },
   "file_extension": ".py",
   "mimetype": "text/x-python",
   "name": "python",
   "nbconvert_exporter": "python",
   "pygments_lexer": "ipython3",
   "version": "3.13.3"
  }
 },
 "nbformat": 4,
 "nbformat_minor": 5
}
